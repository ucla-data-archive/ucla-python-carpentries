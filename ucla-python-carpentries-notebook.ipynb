{
 "cells": [
  {
   "cell_type": "markdown",
   "metadata": {},
   "source": [
    "# Plotting and Programming in Python\n",
    "## Lesson 2: Variables and Assignment"
   ]
  },
  {
   "cell_type": "markdown",
   "metadata": {},
   "source": [
    "### 2. 1 Use variables to store values. \n",
    "\n",
    "- **Variables** are names for values.\n",
    "- In Python the <code> = </code> symbol assigns the value on the right to the name on the left.\n",
    "- The variable is created when a value is assigned to it.\n",
    "- Here, Python assigns an age to a variable <code> age </code> and a name in quotes to a variable <code> first_name </code>."
   ]
  },
  {
   "cell_type": "code",
   "execution_count": 1,
   "metadata": {},
   "outputs": [],
   "source": [
    "age = 42\n",
    "first_name = 'Ahmed'"
   ]
  },
  {
   "cell_type": "markdown",
   "metadata": {},
   "source": [
    "- Variable names\n",
    "    - can **only** contain letters, digits, and underscore <code>_</code> (typically used to separate words in long variable names)\n",
    "    - cannot start with a digit\n",
    "    - are **case sensitive** (age, Age and AGE are three different variables)\n",
    "- Variable names that start with underscores like <code>__alistairs_real_age</code> have a special meaning so we won’t do that until we understand the convention."
   ]
  },
  {
   "cell_type": "markdown",
   "metadata": {},
   "source": [
    "### 2.2 Use print to display values.\n",
    "- Python has a built-in function called <code>print</code> that prints things as text.\n",
    "- Call the function (i.e., tell Python to run it) by using its name.\n",
    "- Provide values to the function (i.e., the things to print) in parentheses.\n",
    "- To add a string to the printout, wrap the string in single or double quotes.\n",
    "- The values passed to the function are called **arguments**"
   ]
  },
  {
   "cell_type": "code",
   "execution_count": 2,
   "metadata": {},
   "outputs": [
    {
     "name": "stdout",
     "output_type": "stream",
     "text": [
      "Ahmed is 42 years old\n"
     ]
    }
   ],
   "source": [
    "print(first_name, 'is', age, 'years old')"
   ]
  },
  {
   "cell_type": "markdown",
   "metadata": {},
   "source": [
    "- <code>print</code> automatically puts a single space between items to separate them.\n",
    "- And wraps around to a new line at the end."
   ]
  },
  {
   "cell_type": "markdown",
   "metadata": {},
   "source": [
    "### 2.3 Variables must be created before they are used.\n",
    "- If a variable doesn’t exist yet, or if the name has been mis-spelled, Python reports an error. (Unlike some languages, which “guess” a default value.)\n"
   ]
  },
  {
   "cell_type": "code",
   "execution_count": 3,
   "metadata": {},
   "outputs": [
    {
     "ename": "NameError",
     "evalue": "name 'last_name' is not defined",
     "output_type": "error",
     "traceback": [
      "\u001b[0;31m---------------------------------------------------------------------------\u001b[0m",
      "\u001b[0;31mNameError\u001b[0m                                 Traceback (most recent call last)",
      "\u001b[0;32m<ipython-input-3-a637c5453549>\u001b[0m in \u001b[0;36m<module>\u001b[0;34m\u001b[0m\n\u001b[0;32m----> 1\u001b[0;31m \u001b[0mprint\u001b[0m\u001b[0;34m(\u001b[0m\u001b[0mlast_name\u001b[0m\u001b[0;34m)\u001b[0m\u001b[0;34m\u001b[0m\u001b[0;34m\u001b[0m\u001b[0m\n\u001b[0m",
      "\u001b[0;31mNameError\u001b[0m: name 'last_name' is not defined"
     ]
    }
   ],
   "source": [
    "print(last_name)"
   ]
  },
  {
   "cell_type": "markdown",
   "metadata": {},
   "source": [
    "- The last line of an error message is usually the most informative.\n",
    "- We will look at error messages in detail later."
   ]
  },
  {
   "cell_type": "markdown",
   "metadata": {},
   "source": [
    "<div class=\"alert alert-block alert-warning\">\n",
    "    <header><b>Variables Persist Between Cells</b></header> Be aware that it is the order of execution of cells that is important in a Jupyter notebook, not the order in which they appear. Python will remember all the code that was run previously, including any variables you have defined, irrespective of the order in the notebook. Therefore if you define variables lower down the notebook and then (re)run cells further up, those defined further down will still be present. As an example, create two cells with the following content, in this order:\n",
    "</div>"
   ]
  },
  {
   "cell_type": "code",
   "execution_count": 4,
   "metadata": {},
   "outputs": [
    {
     "ename": "NameError",
     "evalue": "name 'myval' is not defined",
     "output_type": "error",
     "traceback": [
      "\u001b[0;31m---------------------------------------------------------------------------\u001b[0m",
      "\u001b[0;31mNameError\u001b[0m                                 Traceback (most recent call last)",
      "\u001b[0;32m<ipython-input-4-7b59df88f2b1>\u001b[0m in \u001b[0;36m<module>\u001b[0;34m\u001b[0m\n\u001b[0;32m----> 1\u001b[0;31m \u001b[0mprint\u001b[0m\u001b[0;34m(\u001b[0m\u001b[0mmyval\u001b[0m\u001b[0;34m)\u001b[0m\u001b[0;34m\u001b[0m\u001b[0;34m\u001b[0m\u001b[0m\n\u001b[0m",
      "\u001b[0;31mNameError\u001b[0m: name 'myval' is not defined"
     ]
    }
   ],
   "source": [
    "print(myval)"
   ]
  },
  {
   "cell_type": "code",
   "execution_count": 5,
   "metadata": {},
   "outputs": [],
   "source": [
    "myval = 1"
   ]
  },
  {
   "cell_type": "markdown",
   "metadata": {},
   "source": [
    "<div class=\"alert alert-block alert-warning\">\n",
    "If you execute this in order, the first cell will give an error. However, if you run the first cell after the second cell it will print out 1. To prevent confusion, it can be helpful to use the <code>Kernel</code> -> <code>Restart & Run All</code> option which clears the interpreter and runs everything from a clean slate going top to bottom."
   ]
  },
  {
   "cell_type": "markdown",
   "metadata": {},
   "source": [
    "### 2.4 Variables can be used in calculations.\n",
    "- We can use variables in calculations just as if they were values.\n",
    "    - Remember, we assigned the value 42 to age a few lines ago."
   ]
  },
  {
   "cell_type": "code",
   "execution_count": 6,
   "metadata": {},
   "outputs": [
    {
     "name": "stdout",
     "output_type": "stream",
     "text": [
      "Age in three years: 45\n"
     ]
    }
   ],
   "source": [
    "age = age + 3\n",
    "print('Age in three years:', age)"
   ]
  },
  {
   "cell_type": "markdown",
   "metadata": {},
   "source": [
    "### 2.5 Use an index to get a single character from a string.\n",
    "- The characters (individual letters, numbers, and so on) in a string are ordered. For example, the string <code>'AB'</code> is not the same as <code>'BA'</code>. Because of this ordering, we can treat the string as a list of characters.\n",
    "- Each position in the string (first, second, etc.) is given a number. This number is called an **index** or sometimes a subscript.\n",
    "- Indices are numbered from 0.\n",
    "- Use the position’s index in square brackets to get the character at that position.\n"
   ]
  },
  {
   "cell_type": "code",
   "execution_count": 7,
   "metadata": {},
   "outputs": [
    {
     "data": {
      "image/svg+xml": [
       "<svg xmlns=\"http://www.w3.org/2000/svg\" font-family=\"monospace\" height=\"230\" width=\"1000\">\n",
       "  <rect x=\"40\" y=\"110\" width=\"48\" height=\"110\" fill=\"#b3ef54\" stroke=\"#000\"/>\n",
       "\n",
       "  <text font-size=\"60\" x=\"40\" y=\"80\"><tspan fill=\"#800080\">print</tspan>(atom_name[0])</text>\n",
       "\n",
       "  <g fill=\"#000\" font-size=\"60\" text-anchor=\"middle\">\n",
       "    <text x=\"65\" y=\"200\">h</text>\n",
       "    <text x=\"113\" y=\"200\">e</text>\n",
       "    <text x=\"161\" y=\"200\">l</text>\n",
       "    <text x=\"209\" y=\"200\">i</text>\n",
       "    <text x=\"257\" y=\"200\">u</text>\n",
       "    <text x=\"305\" y=\"200\">m</text>\n",
       "  </g>\n",
       "\n",
       "  <g fill=\"#333\" font-size=\"20\" text-anchor=\"middle\">\n",
       "    <text x=\"65\" y=\"140\">0</text>\n",
       "    <text x=\"113\" y=\"140\">1</text>\n",
       "    <text x=\"161\" y=\"140\">2</text>\n",
       "    <text x=\"209\" y=\"140\">3</text>\n",
       "    <text x=\"257\" y=\"140\">4</text>\n",
       "    <text x=\"305\" y=\"140\">5</text>\n",
       "  </g>\n",
       "</svg>"
      ],
      "text/plain": [
       "<IPython.core.display.SVG object>"
      ]
     },
     "execution_count": 7,
     "metadata": {},
     "output_type": "execute_result"
    }
   ],
   "source": [
    "from IPython.core.display import SVG\n",
    "SVG(filename='2_indexing.svg')"
   ]
  },
  {
   "cell_type": "code",
   "execution_count": 8,
   "metadata": {},
   "outputs": [
    {
     "name": "stdout",
     "output_type": "stream",
     "text": [
      "h\n"
     ]
    }
   ],
   "source": [
    "atom_name = 'helium'\n",
    "print(atom_name[0])"
   ]
  },
  {
   "cell_type": "markdown",
   "metadata": {},
   "source": [
    "### 2.6 Use a slice to get a substring.\n",
    "- A part of a string is called a **substring**. A substring can be as short as a single character.\n",
    "- An item in a list is called an element. Whenever we treat a string as if it were a list, the string’s elements are its individual characters.\n",
    "- A slice is a part of a string (or, more generally, any list-like thing).\n",
    "- We take a slice by using <code>[start:stop]</code>, where <code>start</code> is replaced with the index of the first element we want and <code>stop</code> is replaced with the index of the element just after the last element we want.\n",
    "- Mathematically, you might say that a slice selects <code>[start:stop)</code>.\n",
    "- The difference between <code>stop</code> and <code>start</code> is the slice’s length.\n",
    "- Taking a slice does not change the contents of the original string. Instead, the slice is a copy of part of the original string."
   ]
  },
  {
   "cell_type": "code",
   "execution_count": 9,
   "metadata": {},
   "outputs": [
    {
     "name": "stdout",
     "output_type": "stream",
     "text": [
      "sod\n"
     ]
    }
   ],
   "source": [
    "atom_name = 'sodium'\n",
    "print(atom_name[0:3])"
   ]
  },
  {
   "cell_type": "markdown",
   "metadata": {},
   "source": [
    "### 2.7 Use the built-in function len to find the length of a string."
   ]
  },
  {
   "cell_type": "code",
   "execution_count": 10,
   "metadata": {},
   "outputs": [
    {
     "name": "stdout",
     "output_type": "stream",
     "text": [
      "6\n"
     ]
    }
   ],
   "source": [
    "print(len('helium'))"
   ]
  },
  {
   "cell_type": "markdown",
   "metadata": {},
   "source": [
    "- Nested functions are evaluated from the inside out, like in mathematics."
   ]
  },
  {
   "cell_type": "markdown",
   "metadata": {},
   "source": [
    "### 2.8 Python is case-sensitive.\n",
    "- Python thinks that upper- and lower-case letters are different, so <code>Name</code> and <code>name</code> are different variables.\n",
    "- There are conventions for using upper-case letters at the start of variable names so we will use lower-case letters for now.\n"
   ]
  },
  {
   "cell_type": "markdown",
   "metadata": {},
   "source": [
    "### 2.9 Use meaningful variable names.\n",
    "- Python doesn’t care what you call variables as long as they obey the rules (alphanumeric characters and the underscore)."
   ]
  },
  {
   "cell_type": "code",
   "execution_count": 11,
   "metadata": {},
   "outputs": [
    {
     "name": "stdout",
     "output_type": "stream",
     "text": [
      "Ahmed is 42 years old\n"
     ]
    }
   ],
   "source": [
    "flabadab = 42\n",
    "ewr_422_yY = 'Ahmed'\n",
    "print(ewr_422_yY, 'is', flabadab, 'years old')"
   ]
  },
  {
   "cell_type": "markdown",
   "metadata": {},
   "source": [
    "- Use meaningful variable names to help other people understand what the program does.\n",
    "- The most important “other person” is your future self."
   ]
  },
  {
   "cell_type": "markdown",
   "metadata": {},
   "source": [
    "## Exercises"
   ]
  },
  {
   "cell_type": "markdown",
   "metadata": {},
   "source": [
    "### 1. Swapping Values\n",
    "Fill the table showing the values of the variables in this program after each statement is executed."
   ]
  },
  {
   "cell_type": "code",
   "execution_count": null,
   "metadata": {},
   "outputs": [],
   "source": [
    "# Command  # Value of x   # Value of y   # Value of swap #\n",
    "x = 1.0    #              #              #               #\n",
    "y = 3.0    #              #              #               #\n",
    "swap = x   #              #              #               #\n",
    "x = y      #              #              #               #\n",
    "y = swap   #              #              #               #"
   ]
  },
  {
   "cell_type": "markdown",
   "metadata": {},
   "source": [
    "### 2. Predicting Values\n",
    "What is the final value of <code>position</code> in the program below? (Try to predict the value without running the program, then check your prediction.)\n"
   ]
  },
  {
   "cell_type": "code",
   "execution_count": 12,
   "metadata": {},
   "outputs": [],
   "source": [
    "initial = 'left'\n",
    "position = initial\n",
    "initial = 'right'"
   ]
  },
  {
   "cell_type": "markdown",
   "metadata": {},
   "source": [
    "### 3. Challenge\n",
    "If you assign <code>a = 123</code>, what happens if you try to get the second digit of <code>a</code> via <code>a[1]</code>?"
   ]
  },
  {
   "cell_type": "markdown",
   "metadata": {},
   "source": [
    "### 4. Choosing a Name\n",
    "Which is a better variable name, <code>m</code>, <code>min</code>, or <code>minutes</code>? Why? Hint: think about which code you would rather inherit from someone who is leaving the lab:\n",
    "\n",
    "1. <code>ts = m * 60 + s</code>\n",
    "2. <code>tot_sec = min * 60 + sec</code>\n",
    "3. <code>total_seconds = minutes * 60 + seconds</code>"
   ]
  },
  {
   "cell_type": "markdown",
   "metadata": {},
   "source": [
    "### 5. Slicing practice\n",
    "What does the following program print?"
   ]
  },
  {
   "cell_type": "code",
   "execution_count": null,
   "metadata": {},
   "outputs": [],
   "source": [
    "atom_name = 'carbon'\n",
    "print('atom_name[1:3] is:', atom_name[1:3])"
   ]
  },
  {
   "cell_type": "markdown",
   "metadata": {},
   "source": [
    "### 6. Slicing concepts\n",
    "What does <code>thing[low:high]</code> do?\n",
    "What does <code>thing[low:]</code> (without a value after the colon) do?\n",
    "What does <code>thing[:high]</code> (without a value before the colon) do?\n",
    "What does <code>thing[:]</code> (just a colon) do?\n",
    "What does <code>thing[number:some-negative-number]</code> do?\n",
    "What happens when you choose a <code>high</code> value which is out of range? (i.e., try <code>atom_name[0:15]</code>)"
   ]
  },
  {
   "cell_type": "markdown",
   "metadata": {},
   "source": [
    "## Key Points\n",
    "\n",
    "- Use variables to store values.\n",
    "\n",
    "- Use <code>print</code> to display values.\n",
    "\n",
    "- Variables persist between cells.\n",
    "\n",
    "- Variables must be created before they are used.\n",
    "\n",
    "- Variables can be used in calculations.\n",
    "\n",
    "- Use an index to get a single character from a string.\n",
    "\n",
    "- Use a slice to get a substring.\n",
    "\n",
    "- Use the built-in function  <code>len </code> to find the length of a string.\n",
    "\n",
    "- Python is case-sensitive.\n",
    "\n",
    "- Use meaningful variable names.\n"
   ]
  }
 ],
 "metadata": {
  "kernelspec": {
   "display_name": "Python 3",
   "language": "python",
   "name": "python3"
  },
  "language_info": {
   "codemirror_mode": {
    "name": "ipython",
    "version": 3
   },
   "file_extension": ".py",
   "mimetype": "text/x-python",
   "name": "python",
   "nbconvert_exporter": "python",
   "pygments_lexer": "ipython3",
   "version": "3.8.2"
  }
 },
 "nbformat": 4,
 "nbformat_minor": 2
}
